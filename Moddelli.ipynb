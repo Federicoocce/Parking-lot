{
 "cells": [
  {
   "cell_type": "markdown",
   "metadata": {},
   "source": [
    "Imports"
   ]
  },
  {
   "cell_type": "code",
   "execution_count": 2,
   "metadata": {},
   "outputs": [],
   "source": [
    "# Import necessari\n",
    "import cv2\n",
    "import numpy as np\n",
    "import os\n",
    "import pickle\n",
    "import torch\n",
    "import torch.nn as nn\n",
    "import torchvision.models as models\n",
    "from torch.utils.data import DataLoader, Dataset\n",
    "from torchvision import transforms\n",
    "from sklearn.model_selection import train_test_split\n",
    "import json\n",
    "import torchvision\n",
    "from torchvision.models.detection import maskrcnn_resnet50_fpn\n",
    "from torch.utils.data import Dataset, DataLoader\n",
    "from torchvision import transforms"
   ]
  },
  {
   "cell_type": "markdown",
   "metadata": {},
   "source": [
    "Canny edge detection"
   ]
  },
  {
   "cell_type": "code",
   "execution_count": 20,
   "metadata": {},
   "outputs": [
    {
     "data": {
      "text/plain": [
       "-1"
      ]
     },
     "execution_count": 20,
     "metadata": {},
     "output_type": "execute_result"
    }
   ],
   "source": [
    "def get_edge_image(image, low_threshold, high_threshold):\n",
    "    # Convert the image to grayscale if it's not already\n",
    "    gray = cv2.cvtColor(image, cv2.COLOR_BGR2GRAY)\n",
    "    # Apply Canny edge detection\n",
    "    edges = cv2.Canny(gray, low_threshold, high_threshold)\n",
    "    \n",
    "    return edges\n",
    "\n",
    "# Load an image\n",
    "image = cv2.imread(r'C:\\Users\\loren\\Downloads\\APKLOT-master\\APKLOT-master\\1. Satellite\\Dataset\\parcheggi\\Dataset\\402492112_training.png')\n",
    "\n",
    "# Get the edge image\n",
    "edge_image = get_edge_image(image, low_threshold=250, high_threshold=350)\n",
    "\n",
    "# Display the edge image\n",
    "cv2.imshow('Edge Image', edge_image)\n",
    "cv2.waitKey(0)"
   ]
  },
  {
   "cell_type": "markdown",
   "metadata": {},
   "source": [
    "Store canny edge"
   ]
  },
  {
   "cell_type": "code",
   "execution_count": null,
   "metadata": {},
   "outputs": [],
   "source": [
    "dataset_path = r'C:\\Users\\loren\\Downloads\\APKLOT-master\\APKLOT-master\\1. Satellite\\Dataset\\parcheggi\\Dataset'\n",
    "edge_path = r'C:\\Users\\loren\\Downloads\\APKLOT-master\\APKLOT-master\\1. Satellite\\Dataset\\parcheggi\\Dataset_edge'\n",
    "\n",
    "for filename in os.listdir(dataset_path):\n",
    "    if filename.endswith(('.jpg', '.jpeg', '.png')):\n",
    "        input_image_path = os.path.join(dataset_path, filename)\n",
    "        image = cv2.imread(input_image_path)\n",
    "        # Ottieni l'immagine del bordo\n",
    "        edge_image = get_edge_image(image, low_threshold=250, high_threshold=350)\n",
    "        # Salva l'immagine del bordo nella cartella di output\n",
    "        output_image_path = os.path.join(edge_path, filename)\n",
    "        cv2.imwrite(output_image_path, edge_image)\n",
    "\n",
    "print(\"Il rilevamento dei bordi è stato applicato a tutte le immagini nella cartella.\")"
   ]
  },
  {
   "cell_type": "markdown",
   "metadata": {},
   "source": [
    "Dataset preparation"
   ]
  },
  {
   "cell_type": "code",
   "execution_count": null,
   "metadata": {},
   "outputs": [],
   "source": [
    "# Custom dataset class\n",
    "class ParkingLotDataset(Dataset):\n",
    "    def __init__(self, image_paths, mask_paths, transforms=None):\n",
    "        self.image_paths = image_paths\n",
    "        self.mask_paths = mask_paths\n",
    "        self.transforms = transforms\n",
    "\n",
    "    def __len__(self):\n",
    "        return len(self.image_paths)\n",
    "\n",
    "    def __getitem__(self, idx):\n",
    "        image_path = self.image_paths[idx]\n",
    "        mask_path = self.mask_paths[idx]\n",
    "\n",
    "        # Load image\n",
    "        image = cv2.imread(image_path)\n",
    "        #image = cv2.imread(image_path, cv2.IMREAD_GRAYSCALE)\n",
    "\n",
    "        #image = cv2.cvtColor(image, cv2.COLOR_BGR2RGB)\n",
    "\n",
    "        # Load masks\n",
    "        with open(mask_path, 'r') as f:\n",
    "            masks_data = json.load(f)\n",
    "\n",
    "        masks = []\n",
    "        for shape in masks_data['shapes']:\n",
    "            points = np.array(shape['points'])\n",
    "            mask = np.zeros_like(image[:, :, 0])\n",
    "            cv2.fillPoly(mask, [points.astype(np.int32)], 1)\n",
    "            masks.append(mask)\n",
    "\n",
    "        masks = np.stack(masks, axis=0).astype(np.float32)\n",
    "\n",
    "        # Apply transformations\n",
    "        if self.transforms:\n",
    "            image = self.transforms(image)\n",
    "            masks = self.transforms(masks)\n",
    "\n",
    "        return image, masks\n",
    "\n",
    "# Initialize variables to store max height and width\n",
    "max_height = 0\n",
    "max_width = 0\n",
    "\n",
    "# Iterate through all images in the directory\n",
    "for filename in os.listdir('C:/Users/loren/Downloads/APKLOT-master/APKLOT-master/1. Satellite/Dataset/parcheggi/dataloader'):\n",
    "    if filename.endswith('.png') or filename.endswith('.jpg'):\n",
    "        # Load the image\n",
    "        image_path = os.path.join('C:/Users/loren/Downloads/APKLOT-master/APKLOT-master/1. Satellite/Dataset/parcheggi/dataloader', filename)\n",
    "        image = cv2.imread(image_path)\n",
    "\n",
    "        # Get height and width of the image\n",
    "        height, width, _ = image.shape\n",
    "\n",
    "        # Update max_height and max_width if necessary\n",
    "        if height > max_height:\n",
    "            max_height = height\n",
    "        if width > max_width:\n",
    "            max_width = width\n",
    "\n",
    "print(\"Maximum Height:\", max_height)\n",
    "print(\"Maximum Width:\", max_width)\n",
    "\n",
    "# Data transformations\n",
    "transform = transforms.Compose([\n",
    "    transforms.Resize((max_height, max_width)),  # Resize to maximum dimensions\n",
    "    transforms.Pad(padding),  # Pad images to make them all the same size\n",
    "    transforms.ToTensor()\n",
    "])\n",
    "\n",
    "# Combine image and mask paths\n",
    "image_paths = []\n",
    "mask_paths = []\n",
    "for filename in os.listdir('C:/Users/loren/Downloads/APKLOT-master/APKLOT-master/1. Satellite/Dataset/parcheggi/dataloader'):\n",
    "    if filename.endswith('.png'):\n",
    "        image_path = 'C:/Users/loren/Downloads/APKLOT-master/APKLOT-master/1. Satellite/Dataset/parcheggi/dataloader'+ '/' + filename\n",
    "        mask_path = 'C:/Users/loren/Downloads/APKLOT-master/APKLOT-master/1. Satellite/Dataset/parcheggi/dataloader'+ '/' + filename.replace('.png', '.json')\n",
    "        image_paths.append(image_path)\n",
    "        mask_paths.append(mask_path)\n",
    "\n",
    "\n",
    "\n"
   ]
  },
  {
   "cell_type": "markdown",
   "metadata": {},
   "source": [
    "DATASET CLASS"
   ]
  },
  {
   "cell_type": "code",
   "execution_count": 3,
   "metadata": {},
   "outputs": [],
   "source": [
    "# Custom dataset class\n",
    "class ParkingLotDataset(Dataset):\n",
    "    def __init__(self, image_paths, mask_paths, transforms=None):\n",
    "        self.image_paths = image_paths\n",
    "        self.mask_paths = mask_paths\n",
    "        self.transforms = transforms\n",
    "\n",
    "    def __len__(self):\n",
    "        return len(self.image_paths)\n",
    "\n",
    "    def __getitem__(self, idx):\n",
    "        image_path = self.image_paths[idx]\n",
    "        mask_path = self.mask_paths[idx]\n",
    "\n",
    "        # Load image\n",
    "        image = cv2.imread(image_path)\n",
    "        #image = cv2.imread(image_path, cv2.IMREAD_GRAYSCALE)\n",
    "\n",
    "        #image = cv2.cvtColor(image, cv2.COLOR_BGR2RGB)\n",
    "\n",
    "        # Load masks\n",
    "        with open(mask_path, 'r') as f:\n",
    "            masks_data = json.load(f)\n",
    "\n",
    "        masks = []\n",
    "        for shape in masks_data['shapes']:\n",
    "            points = np.array(shape['points'])\n",
    "            mask = np.zeros_like(image[:, :, 0])\n",
    "            cv2.fillPoly(mask, [points.astype(np.int32)], 1)\n",
    "            masks.append(mask)\n",
    "\n",
    "        masks = np.stack(masks, axis=0).astype(np.float32)\n",
    "\n",
    "        # Apply transformations\n",
    "        if self.transforms:\n",
    "            image = self.transforms(image)\n",
    "            masks = self.transforms(masks)\n",
    "\n",
    "        return image, masks"
   ]
  },
  {
   "cell_type": "markdown",
   "metadata": {},
   "source": [
    "DATASET SLPIT"
   ]
  },
  {
   "cell_type": "code",
   "execution_count": 19,
   "metadata": {},
   "outputs": [
    {
     "name": "stdout",
     "output_type": "stream",
     "text": [
      "Maximum Height: 2108\n",
      "Maximum Width: 2113\n"
     ]
    }
   ],
   "source": [
    "#controllo il massimo valore di altezza e larghezza per fare il padding\n",
    "import cv2\n",
    "import os\n",
    "\n",
    "# Directory containing the images\n",
    "data_dir = 'dataloader'\n",
    "\n",
    "# Initialize variables to store max height and width\n",
    "max_height = 0\n",
    "max_width = 0\n",
    "\n",
    "# Iterate through all images in the directory\n",
    "for filename in os.listdir(data_dir):\n",
    "    if filename.endswith('.png') or filename.endswith('.jpg'):\n",
    "        # Load the image\n",
    "        image_path = os.path.join(data_dir, filename)\n",
    "        image = cv2.imread(image_path)\n",
    "\n",
    "        # Get height and width of the image\n",
    "        height, width, _ = image.shape\n",
    "\n",
    "        # Update max_height and max_width if necessary\n",
    "        if height > max_height:\n",
    "            max_height = height\n",
    "        if width > max_width:\n",
    "            max_width = width\n",
    "\n",
    "print(\"Maximum Height:\", max_height)\n",
    "print(\"Maximum Width:\", max_width)"
   ]
  },
  {
   "cell_type": "code",
   "execution_count": 15,
   "metadata": {},
   "outputs": [
    {
     "name": "stdout",
     "output_type": "stream",
     "text": [
      "['dataloader/101881731.png', 'dataloader/103109948.png', 'dataloader/103614205.png', 'dataloader/104101927.png', 'dataloader/104357814.png', 'dataloader/104357815.png', 'dataloader/104357817.png', 'dataloader/104907575.png', 'dataloader/116016718.png', 'dataloader/119422952.png', 'dataloader/119917133.png', 'dataloader/126381586.png', 'dataloader/126381588.png', 'dataloader/126381594.png', 'dataloader/127649594.png', 'dataloader/127649606.png', 'dataloader/130730813.png', 'dataloader/132613254.png', 'dataloader/134714700.png', 'dataloader/136128142.png', 'dataloader/136128143.png', 'dataloader/136128144.png', 'dataloader/137007454.png', 'dataloader/137007455.png', 'dataloader/139146552.png', 'dataloader/139146568.png', 'dataloader/144384815.png', 'dataloader/144848258.png', 'dataloader/147397541.png', 'dataloader/148521975.png', 'dataloader/148788621.png', 'dataloader/151179182.png', 'dataloader/152582726.png', 'dataloader/153028544.png', 'dataloader/15309700.png', 'dataloader/15311494.png', 'dataloader/154217854.png', 'dataloader/154221773.png', 'dataloader/156352855.png', 'dataloader/156352858.png', 'dataloader/156352860.png', 'dataloader/156359105.png', 'dataloader/156359109.png', 'dataloader/156359112.png', 'dataloader/156360956.png', 'dataloader/156886202.png', 'dataloader/157756975.png', 'dataloader/157967280.png', 'dataloader/158768955.png', 'dataloader/158974988.png', 'dataloader/159128651.png', 'dataloader/159189383.png', 'dataloader/159269575.png', 'dataloader/159844816.png', 'dataloader/159860886.png', 'dataloader/159860891.png', 'dataloader/159935968.png', 'dataloader/160704716.png', 'dataloader/162450366.png', 'dataloader/163314900.png', 'dataloader/166290777.png', 'dataloader/166683943.png', 'dataloader/166725206.png', 'dataloader/166725208.png', 'dataloader/168080160.png', 'dataloader/169474254.png', 'dataloader/170836057.png', 'dataloader/175484438.png', 'dataloader/175679189.png', 'dataloader/175934755.png', 'dataloader/176329920.png', 'dataloader/176329932.png', 'dataloader/176593348.png', 'dataloader/176593349.png', 'dataloader/176593350.png', 'dataloader/177075398.png', 'dataloader/179776749.png', 'dataloader/180332956.png', 'dataloader/180347405.png', 'dataloader/180348751.png', 'dataloader/180348757.png', 'dataloader/181684134.png', 'dataloader/182312368.png', 'dataloader/182887155.png', 'dataloader/182887208.png', 'dataloader/182887284.png', 'dataloader/182887307.png', 'dataloader/182894027.png', 'dataloader/182894050.png', 'dataloader/182952045.png', 'dataloader/183010839.png', 'dataloader/184330084.png', 'dataloader/184330134.png', 'dataloader/185921499.png', 'dataloader/186123785.png', 'dataloader/186758578.png', 'dataloader/186758588.png', 'dataloader/187125347.png', 'dataloader/187155856.png', 'dataloader/187458237.png', 'dataloader/187477848.png', 'dataloader/187770720.png', 'dataloader/187779920.png', 'dataloader/187779925.png', 'dataloader/189345329.png', 'dataloader/189673783.png', 'dataloader/190423072.png', 'dataloader/191987952.png', 'dataloader/192793010.png', 'dataloader/192926523.png', 'dataloader/194700833.png', 'dataloader/202049019.png', 'dataloader/202645760.png', 'dataloader/202645761.png', 'dataloader/202782199.png', 'dataloader/203010921.png', 'dataloader/203436248.png', 'dataloader/204769085.png', 'dataloader/204907608.png', 'dataloader/206212194.png', 'dataloader/206212195.png', 'dataloader/206212196.png', 'dataloader/206212198.png', 'dataloader/206630543.png', 'dataloader/206631643.png', 'dataloader/206631857.png', 'dataloader/208033509.png', 'dataloader/208069173.png', 'dataloader/208495589.png', 'dataloader/209721371.png', 'dataloader/209723367.png', 'dataloader/209897615.png', 'dataloader/209901592.png', 'dataloader/209901602.png', 'dataloader/209916716.png', 'dataloader/209916719.png', 'dataloader/211780685.png', 'dataloader/211896820.png', 'dataloader/214376131.png', 'dataloader/214838404.png', 'dataloader/216816822.png', 'dataloader/217109098.png', 'dataloader/217505807.png', 'dataloader/217680410.png', 'dataloader/219035790.png', 'dataloader/219041284.png', 'dataloader/219374120.png', 'dataloader/219682491.png', 'dataloader/220063123.png', 'dataloader/220772336.png', 'dataloader/221488777.png', 'dataloader/221515848.png', 'dataloader/223631877.png', 'dataloader/224656352.png', 'dataloader/224659159.png', 'dataloader/224659301.png', 'dataloader/225776650.png', 'dataloader/226141664.png', 'dataloader/226833218.png', 'dataloader/226833224.png', 'dataloader/229125509.png', 'dataloader/231771817.png', 'dataloader/23289018.png', 'dataloader/23289025.png', 'dataloader/233194134.png', 'dataloader/233333777.png', 'dataloader/23365820.png', 'dataloader/233913162.png', 'dataloader/233913205.png', 'dataloader/234753663.png', 'dataloader/235506774.png', 'dataloader/235713309.png', 'dataloader/236399113.png', 'dataloader/23655368.png', 'dataloader/237054156.png', 'dataloader/238131051.png', 'dataloader/23974996.png', 'dataloader/23994557.png', 'dataloader/24706432.png', 'dataloader/24833427.png', 'dataloader/24972253.png', 'dataloader/251092860.png', 'dataloader/251110755.png', 'dataloader/251382210.png', 'dataloader/252409022.png', 'dataloader/255160448.png', 'dataloader/255267686.png', 'dataloader/255462084.png', 'dataloader/255462087.png', 'dataloader/255477273.png', 'dataloader/255487584.png', 'dataloader/256399891.png', 'dataloader/256728299.png', 'dataloader/256850935.png', 'dataloader/256850936.png', 'dataloader/256850939.png', 'dataloader/257519463.png', 'dataloader/257800584.png', 'dataloader/258998102.png', 'dataloader/259601056.png', 'dataloader/259651363.png', 'dataloader/259651368.png', 'dataloader/259656738.png', 'dataloader/261564557.png', 'dataloader/263216146.png', 'dataloader/264160545.png', 'dataloader/264843162.png', 'dataloader/264843169.png', 'dataloader/265891023.png', 'dataloader/265891079.png', 'dataloader/265891094.png', 'dataloader/27081537.png', 'dataloader/27094261.png', 'dataloader/27099911.png', 'dataloader/27099913.png', 'dataloader/27292693.png', 'dataloader/272929387.png', 'dataloader/274465245.png', 'dataloader/274716780.png', 'dataloader/277994505.png', 'dataloader/278079048.png', 'dataloader/278577443.png', 'dataloader/278765553.png', 'dataloader/279671257.png', 'dataloader/280005915.png', 'dataloader/28344927.png', 'dataloader/283478016.png', 'dataloader/284469844.png', 'dataloader/28459161.png', 'dataloader/28460666.png', 'dataloader/285596127.png', 'dataloader/287431679.png', 'dataloader/28747556.png', 'dataloader/28815732.png', 'dataloader/288728572.png', 'dataloader/288859978.png', 'dataloader/28920464.png', 'dataloader/28920487.png', 'dataloader/290269292.png', 'dataloader/290273167.png', 'dataloader/290273169.png', 'dataloader/292630167.png', 'dataloader/296867217.png', 'dataloader/301709163.png', 'dataloader/303813581.png', 'dataloader/304720518.png', 'dataloader/30528265.png', 'dataloader/305715072.png', 'dataloader/306739286.png', 'dataloader/30794556.png', 'dataloader/30794557.png', 'dataloader/307972637.png', 'dataloader/308307120.png', 'dataloader/308307124.png', 'dataloader/309309707.png', 'dataloader/309309709.png', 'dataloader/310661315.png', 'dataloader/312841186.png', 'dataloader/313031581.png', 'dataloader/313032023.png', 'dataloader/313032753.png', 'dataloader/313032759.png', 'dataloader/313032760.png', 'dataloader/313626777.png', 'dataloader/31374648.png', 'dataloader/31374858.png', 'dataloader/314623049.png', 'dataloader/314623066.png', 'dataloader/314624239.png', 'dataloader/315685509.png', 'dataloader/317531114.png', 'dataloader/317614423.png', 'dataloader/317614424.png', 'dataloader/317614426.png', 'dataloader/31778898.png', 'dataloader/317871598.png', 'dataloader/319341287.png', 'dataloader/319926728.png', 'dataloader/321568625.png', 'dataloader/321574057.png', 'dataloader/322784130.png', 'dataloader/322951795.png', 'dataloader/32459578.png', 'dataloader/327172084.png', 'dataloader/328839921.png', 'dataloader/333080879.png', 'dataloader/333080881.png', 'dataloader/33583159.png', 'dataloader/339831633.png', 'dataloader/339841242.png', 'dataloader/341043279.png', 'dataloader/341600327.png', 'dataloader/343224426.png', 'dataloader/345002836.png', 'dataloader/34581464.png', 'dataloader/346398833.png', 'dataloader/351595796.png', 'dataloader/357530131.png', 'dataloader/363025783.png', 'dataloader/363821145.png', 'dataloader/363821164.png', 'dataloader/363847343.png', 'dataloader/363855966.png', 'dataloader/363855967.png', 'dataloader/363855968.png', 'dataloader/363855973.png', 'dataloader/363855978.png', 'dataloader/363855980.png', 'dataloader/364021590.png', 'dataloader/364021593.png', 'dataloader/364021594.png', 'dataloader/364021598.png', 'dataloader/364021639.png', 'dataloader/364021645.png', 'dataloader/364023375.png', 'dataloader/364715755.png', 'dataloader/364837568.png', 'dataloader/365004779.png', 'dataloader/366446718.png', 'dataloader/368044156.png', 'dataloader/371660154.png', 'dataloader/371751497.png', 'dataloader/373229508.png', 'dataloader/373573684.png', 'dataloader/374425437.png', 'dataloader/377543476.png', 'dataloader/378149475.png', 'dataloader/379442285.png', 'dataloader/386442953.png', 'dataloader/386912747.png', 'dataloader/387805419.png', 'dataloader/388772955.png', 'dataloader/391794430.png', 'dataloader/391794433.png', 'dataloader/393694776.png', 'dataloader/395031252.png', 'dataloader/395308824.png', 'dataloader/395308834.png', 'dataloader/397174539.png', 'dataloader/399001272.png', 'dataloader/399001279.png', 'dataloader/401889261.png', 'dataloader/401997488.png', 'dataloader/402492112.png', 'dataloader/402792787.png', 'dataloader/402929261.png', 'dataloader/402929767.png', 'dataloader/405051029.png', 'dataloader/405874587.png', 'dataloader/405875567.png', 'dataloader/406874352.png', 'dataloader/407269205.png', 'dataloader/40784943.png', 'dataloader/409100585.png', 'dataloader/411212356.png', 'dataloader/412178612.png', 'dataloader/412178615.png', 'dataloader/41285519.png', 'dataloader/41363165.png', 'dataloader/417133000.png', 'dataloader/418126155.png', 'dataloader/418127019.png', 'dataloader/41874619.png', 'dataloader/419967624.png', 'dataloader/422371150.png', 'dataloader/423908331.png', 'dataloader/425214705.png', 'dataloader/426441769.png', 'dataloader/426609126.png', 'dataloader/427489763.png', 'dataloader/429780092.png', 'dataloader/43035578.png', 'dataloader/43055418.png', 'dataloader/43055800.png', 'dataloader/431481498.png', 'dataloader/432343792.png', 'dataloader/433133816.png', 'dataloader/433133817.png', 'dataloader/433317364.png', 'dataloader/43482079.png', 'dataloader/436198487.png', 'dataloader/43666752.png', 'dataloader/43897084.png', 'dataloader/43898328.png', 'dataloader/440425951.png', 'dataloader/441843178.png', 'dataloader/441866281.png', 'dataloader/443100608.png', 'dataloader/444319214.png', 'dataloader/444933584.png', 'dataloader/446037955.png', 'dataloader/44634948.png', 'dataloader/44635188.png', 'dataloader/44635204.png', 'dataloader/446898797.png', 'dataloader/447327113.png', 'dataloader/447781482.png', 'dataloader/448329578.png', 'dataloader/44885336.png', 'dataloader/44896148.png', 'dataloader/455410964.png', 'dataloader/455411217.png', 'dataloader/456841043.png', 'dataloader/456884384.png', 'dataloader/457353772.png', 'dataloader/458810898.png', 'dataloader/460830572.png', 'dataloader/46088557.png', 'dataloader/461017732.png', 'dataloader/461017733.png', 'dataloader/461017734.png', 'dataloader/461017735.png', 'dataloader/461017736.png', 'dataloader/468517244.png', 'dataloader/468787720.png', 'dataloader/468921229.png', 'dataloader/469222453.png', 'dataloader/469246814.png', 'dataloader/469278707.png', 'dataloader/470310711.png', 'dataloader/470413148.png', 'dataloader/470707782.png', 'dataloader/471844220.png', 'dataloader/471969044.png', 'dataloader/472218412.png', 'dataloader/476190974.png', 'dataloader/480480976.png', 'dataloader/480761236.png', 'dataloader/481674231.png', 'dataloader/481698999.png', 'dataloader/491147902.png', 'dataloader/492117055.png', 'dataloader/493535535.png', 'dataloader/494958227.png', 'dataloader/495269744.png', 'dataloader/495926981.png', 'dataloader/495972899.png', 'dataloader/495972968.png', 'dataloader/496132130.png', 'dataloader/503570914.png', 'dataloader/50508304.png', 'dataloader/50508378.png', 'dataloader/50508483.png', 'dataloader/508588206.png', 'dataloader/508588207.png', 'dataloader/508801197.png', 'dataloader/509665245.png', 'dataloader/513706021.png', 'dataloader/515098952.png', 'dataloader/518296717.png', 'dataloader/518398476.png', 'dataloader/52203064.png', 'dataloader/528940288.png', 'dataloader/531053172.png', 'dataloader/534389190.png', 'dataloader/539427166.png', 'dataloader/54060006.png', 'dataloader/54278401.png', 'dataloader/544168893.png', 'dataloader/54443512.png', 'dataloader/546361665.png', 'dataloader/546361667.png', 'dataloader/546924098.png', 'dataloader/546943598.png', 'dataloader/548420990.png', 'dataloader/54884689.png', 'dataloader/549411950.png', 'dataloader/551331553.png', 'dataloader/556607139.png', 'dataloader/557143501.png', 'dataloader/55848090.png', 'dataloader/559370774.png', 'dataloader/564127049.png', 'dataloader/56463099.png', 'dataloader/56844815.png', 'dataloader/56844876.png', 'dataloader/570594317.png', 'dataloader/572187256.png', 'dataloader/576848806.png', 'dataloader/586437980.png', 'dataloader/588719541.png', 'dataloader/588786395.png', 'dataloader/59582387.png', 'dataloader/60796346.png', 'dataloader/62050270.png', 'dataloader/70721559.png', 'dataloader/70872439.png', 'dataloader/71067186.png', 'dataloader/71290777.png', 'dataloader/72370074.png', 'dataloader/75497667.png', 'dataloader/79875403.png', 'dataloader/80052744.png', 'dataloader/80216687.png', 'dataloader/83429421.png', 'dataloader/83533038.png', 'dataloader/84488712.png', 'dataloader/88187333.png', 'dataloader/95551586.png', 'dataloader/95685219.png']\n",
      "['dataloader/101881731.json', 'dataloader/103109948.json', 'dataloader/103614205.json', 'dataloader/104101927.json', 'dataloader/104357814.json', 'dataloader/104357815.json', 'dataloader/104357817.json', 'dataloader/104907575.json', 'dataloader/116016718.json', 'dataloader/119422952.json', 'dataloader/119917133.json', 'dataloader/126381586.json', 'dataloader/126381588.json', 'dataloader/126381594.json', 'dataloader/127649594.json', 'dataloader/127649606.json', 'dataloader/130730813.json', 'dataloader/132613254.json', 'dataloader/134714700.json', 'dataloader/136128142.json', 'dataloader/136128143.json', 'dataloader/136128144.json', 'dataloader/137007454.json', 'dataloader/137007455.json', 'dataloader/139146552.json', 'dataloader/139146568.json', 'dataloader/144384815.json', 'dataloader/144848258.json', 'dataloader/147397541.json', 'dataloader/148521975.json', 'dataloader/148788621.json', 'dataloader/151179182.json', 'dataloader/152582726.json', 'dataloader/153028544.json', 'dataloader/15309700.json', 'dataloader/15311494.json', 'dataloader/154217854.json', 'dataloader/154221773.json', 'dataloader/156352855.json', 'dataloader/156352858.json', 'dataloader/156352860.json', 'dataloader/156359105.json', 'dataloader/156359109.json', 'dataloader/156359112.json', 'dataloader/156360956.json', 'dataloader/156886202.json', 'dataloader/157756975.json', 'dataloader/157967280.json', 'dataloader/158768955.json', 'dataloader/158974988.json', 'dataloader/159128651.json', 'dataloader/159189383.json', 'dataloader/159269575.json', 'dataloader/159844816.json', 'dataloader/159860886.json', 'dataloader/159860891.json', 'dataloader/159935968.json', 'dataloader/160704716.json', 'dataloader/162450366.json', 'dataloader/163314900.json', 'dataloader/166290777.json', 'dataloader/166683943.json', 'dataloader/166725206.json', 'dataloader/166725208.json', 'dataloader/168080160.json', 'dataloader/169474254.json', 'dataloader/170836057.json', 'dataloader/175484438.json', 'dataloader/175679189.json', 'dataloader/175934755.json', 'dataloader/176329920.json', 'dataloader/176329932.json', 'dataloader/176593348.json', 'dataloader/176593349.json', 'dataloader/176593350.json', 'dataloader/177075398.json', 'dataloader/179776749.json', 'dataloader/180332956.json', 'dataloader/180347405.json', 'dataloader/180348751.json', 'dataloader/180348757.json', 'dataloader/181684134.json', 'dataloader/182312368.json', 'dataloader/182887155.json', 'dataloader/182887208.json', 'dataloader/182887284.json', 'dataloader/182887307.json', 'dataloader/182894027.json', 'dataloader/182894050.json', 'dataloader/182952045.json', 'dataloader/183010839.json', 'dataloader/184330084.json', 'dataloader/184330134.json', 'dataloader/185921499.json', 'dataloader/186123785.json', 'dataloader/186758578.json', 'dataloader/186758588.json', 'dataloader/187125347.json', 'dataloader/187155856.json', 'dataloader/187458237.json', 'dataloader/187477848.json', 'dataloader/187770720.json', 'dataloader/187779920.json', 'dataloader/187779925.json', 'dataloader/189345329.json', 'dataloader/189673783.json', 'dataloader/190423072.json', 'dataloader/191987952.json', 'dataloader/192793010.json', 'dataloader/192926523.json', 'dataloader/194700833.json', 'dataloader/202049019.json', 'dataloader/202645760.json', 'dataloader/202645761.json', 'dataloader/202782199.json', 'dataloader/203010921.json', 'dataloader/203436248.json', 'dataloader/204769085.json', 'dataloader/204907608.json', 'dataloader/206212194.json', 'dataloader/206212195.json', 'dataloader/206212196.json', 'dataloader/206212198.json', 'dataloader/206630543.json', 'dataloader/206631643.json', 'dataloader/206631857.json', 'dataloader/208033509.json', 'dataloader/208069173.json', 'dataloader/208495589.json', 'dataloader/209721371.json', 'dataloader/209723367.json', 'dataloader/209897615.json', 'dataloader/209901592.json', 'dataloader/209901602.json', 'dataloader/209916716.json', 'dataloader/209916719.json', 'dataloader/211780685.json', 'dataloader/211896820.json', 'dataloader/214376131.json', 'dataloader/214838404.json', 'dataloader/216816822.json', 'dataloader/217109098.json', 'dataloader/217505807.json', 'dataloader/217680410.json', 'dataloader/219035790.json', 'dataloader/219041284.json', 'dataloader/219374120.json', 'dataloader/219682491.json', 'dataloader/220063123.json', 'dataloader/220772336.json', 'dataloader/221488777.json', 'dataloader/221515848.json', 'dataloader/223631877.json', 'dataloader/224656352.json', 'dataloader/224659159.json', 'dataloader/224659301.json', 'dataloader/225776650.json', 'dataloader/226141664.json', 'dataloader/226833218.json', 'dataloader/226833224.json', 'dataloader/229125509.json', 'dataloader/231771817.json', 'dataloader/23289018.json', 'dataloader/23289025.json', 'dataloader/233194134.json', 'dataloader/233333777.json', 'dataloader/23365820.json', 'dataloader/233913162.json', 'dataloader/233913205.json', 'dataloader/234753663.json', 'dataloader/235506774.json', 'dataloader/235713309.json', 'dataloader/236399113.json', 'dataloader/23655368.json', 'dataloader/237054156.json', 'dataloader/238131051.json', 'dataloader/23974996.json', 'dataloader/23994557.json', 'dataloader/24706432.json', 'dataloader/24833427.json', 'dataloader/24972253.json', 'dataloader/251092860.json', 'dataloader/251110755.json', 'dataloader/251382210.json', 'dataloader/252409022.json', 'dataloader/255160448.json', 'dataloader/255267686.json', 'dataloader/255462084.json', 'dataloader/255462087.json', 'dataloader/255477273.json', 'dataloader/255487584.json', 'dataloader/256399891.json', 'dataloader/256728299.json', 'dataloader/256850935.json', 'dataloader/256850936.json', 'dataloader/256850939.json', 'dataloader/257519463.json', 'dataloader/257800584.json', 'dataloader/258998102.json', 'dataloader/259601056.json', 'dataloader/259651363.json', 'dataloader/259651368.json', 'dataloader/259656738.json', 'dataloader/261564557.json', 'dataloader/263216146.json', 'dataloader/264160545.json', 'dataloader/264843162.json', 'dataloader/264843169.json', 'dataloader/265891023.json', 'dataloader/265891079.json', 'dataloader/265891094.json', 'dataloader/27081537.json', 'dataloader/27094261.json', 'dataloader/27099911.json', 'dataloader/27099913.json', 'dataloader/27292693.json', 'dataloader/272929387.json', 'dataloader/274465245.json', 'dataloader/274716780.json', 'dataloader/277994505.json', 'dataloader/278079048.json', 'dataloader/278577443.json', 'dataloader/278765553.json', 'dataloader/279671257.json', 'dataloader/280005915.json', 'dataloader/28344927.json', 'dataloader/283478016.json', 'dataloader/284469844.json', 'dataloader/28459161.json', 'dataloader/28460666.json', 'dataloader/285596127.json', 'dataloader/287431679.json', 'dataloader/28747556.json', 'dataloader/28815732.json', 'dataloader/288728572.json', 'dataloader/288859978.json', 'dataloader/28920464.json', 'dataloader/28920487.json', 'dataloader/290269292.json', 'dataloader/290273167.json', 'dataloader/290273169.json', 'dataloader/292630167.json', 'dataloader/296867217.json', 'dataloader/301709163.json', 'dataloader/303813581.json', 'dataloader/304720518.json', 'dataloader/30528265.json', 'dataloader/305715072.json', 'dataloader/306739286.json', 'dataloader/30794556.json', 'dataloader/30794557.json', 'dataloader/307972637.json', 'dataloader/308307120.json', 'dataloader/308307124.json', 'dataloader/309309707.json', 'dataloader/309309709.json', 'dataloader/310661315.json', 'dataloader/312841186.json', 'dataloader/313031581.json', 'dataloader/313032023.json', 'dataloader/313032753.json', 'dataloader/313032759.json', 'dataloader/313032760.json', 'dataloader/313626777.json', 'dataloader/31374648.json', 'dataloader/31374858.json', 'dataloader/314623049.json', 'dataloader/314623066.json', 'dataloader/314624239.json', 'dataloader/315685509.json', 'dataloader/317531114.json', 'dataloader/317614423.json', 'dataloader/317614424.json', 'dataloader/317614426.json', 'dataloader/31778898.json', 'dataloader/317871598.json', 'dataloader/319341287.json', 'dataloader/319926728.json', 'dataloader/321568625.json', 'dataloader/321574057.json', 'dataloader/322784130.json', 'dataloader/322951795.json', 'dataloader/32459578.json', 'dataloader/327172084.json', 'dataloader/328839921.json', 'dataloader/333080879.json', 'dataloader/333080881.json', 'dataloader/33583159.json', 'dataloader/339831633.json', 'dataloader/339841242.json', 'dataloader/341043279.json', 'dataloader/341600327.json', 'dataloader/343224426.json', 'dataloader/345002836.json', 'dataloader/34581464.json', 'dataloader/346398833.json', 'dataloader/351595796.json', 'dataloader/357530131.json', 'dataloader/363025783.json', 'dataloader/363821145.json', 'dataloader/363821164.json', 'dataloader/363847343.json', 'dataloader/363855966.json', 'dataloader/363855967.json', 'dataloader/363855968.json', 'dataloader/363855973.json', 'dataloader/363855978.json', 'dataloader/363855980.json', 'dataloader/364021590.json', 'dataloader/364021593.json', 'dataloader/364021594.json', 'dataloader/364021598.json', 'dataloader/364021639.json', 'dataloader/364021645.json', 'dataloader/364023375.json', 'dataloader/364715755.json', 'dataloader/364837568.json', 'dataloader/365004779.json', 'dataloader/366446718.json', 'dataloader/368044156.json', 'dataloader/371660154.json', 'dataloader/371751497.json', 'dataloader/373229508.json', 'dataloader/373573684.json', 'dataloader/374425437.json', 'dataloader/377543476.json', 'dataloader/378149475.json', 'dataloader/379442285.json', 'dataloader/386442953.json', 'dataloader/386912747.json', 'dataloader/387805419.json', 'dataloader/388772955.json', 'dataloader/391794430.json', 'dataloader/391794433.json', 'dataloader/393694776.json', 'dataloader/395031252.json', 'dataloader/395308824.json', 'dataloader/395308834.json', 'dataloader/397174539.json', 'dataloader/399001272.json', 'dataloader/399001279.json', 'dataloader/401889261.json', 'dataloader/401997488.json', 'dataloader/402492112.json', 'dataloader/402792787.json', 'dataloader/402929261.json', 'dataloader/402929767.json', 'dataloader/405051029.json', 'dataloader/405874587.json', 'dataloader/405875567.json', 'dataloader/406874352.json', 'dataloader/407269205.json', 'dataloader/40784943.json', 'dataloader/409100585.json', 'dataloader/411212356.json', 'dataloader/412178612.json', 'dataloader/412178615.json', 'dataloader/41285519.json', 'dataloader/41363165.json', 'dataloader/417133000.json', 'dataloader/418126155.json', 'dataloader/418127019.json', 'dataloader/41874619.json', 'dataloader/419967624.json', 'dataloader/422371150.json', 'dataloader/423908331.json', 'dataloader/425214705.json', 'dataloader/426441769.json', 'dataloader/426609126.json', 'dataloader/427489763.json', 'dataloader/429780092.json', 'dataloader/43035578.json', 'dataloader/43055418.json', 'dataloader/43055800.json', 'dataloader/431481498.json', 'dataloader/432343792.json', 'dataloader/433133816.json', 'dataloader/433133817.json', 'dataloader/433317364.json', 'dataloader/43482079.json', 'dataloader/436198487.json', 'dataloader/43666752.json', 'dataloader/43897084.json', 'dataloader/43898328.json', 'dataloader/440425951.json', 'dataloader/441843178.json', 'dataloader/441866281.json', 'dataloader/443100608.json', 'dataloader/444319214.json', 'dataloader/444933584.json', 'dataloader/446037955.json', 'dataloader/44634948.json', 'dataloader/44635188.json', 'dataloader/44635204.json', 'dataloader/446898797.json', 'dataloader/447327113.json', 'dataloader/447781482.json', 'dataloader/448329578.json', 'dataloader/44885336.json', 'dataloader/44896148.json', 'dataloader/455410964.json', 'dataloader/455411217.json', 'dataloader/456841043.json', 'dataloader/456884384.json', 'dataloader/457353772.json', 'dataloader/458810898.json', 'dataloader/460830572.json', 'dataloader/46088557.json', 'dataloader/461017732.json', 'dataloader/461017733.json', 'dataloader/461017734.json', 'dataloader/461017735.json', 'dataloader/461017736.json', 'dataloader/468517244.json', 'dataloader/468787720.json', 'dataloader/468921229.json', 'dataloader/469222453.json', 'dataloader/469246814.json', 'dataloader/469278707.json', 'dataloader/470310711.json', 'dataloader/470413148.json', 'dataloader/470707782.json', 'dataloader/471844220.json', 'dataloader/471969044.json', 'dataloader/472218412.json', 'dataloader/476190974.json', 'dataloader/480480976.json', 'dataloader/480761236.json', 'dataloader/481674231.json', 'dataloader/481698999.json', 'dataloader/491147902.json', 'dataloader/492117055.json', 'dataloader/493535535.json', 'dataloader/494958227.json', 'dataloader/495269744.json', 'dataloader/495926981.json', 'dataloader/495972899.json', 'dataloader/495972968.json', 'dataloader/496132130.json', 'dataloader/503570914.json', 'dataloader/50508304.json', 'dataloader/50508378.json', 'dataloader/50508483.json', 'dataloader/508588206.json', 'dataloader/508588207.json', 'dataloader/508801197.json', 'dataloader/509665245.json', 'dataloader/513706021.json', 'dataloader/515098952.json', 'dataloader/518296717.json', 'dataloader/518398476.json', 'dataloader/52203064.json', 'dataloader/528940288.json', 'dataloader/531053172.json', 'dataloader/534389190.json', 'dataloader/539427166.json', 'dataloader/54060006.json', 'dataloader/54278401.json', 'dataloader/544168893.json', 'dataloader/54443512.json', 'dataloader/546361665.json', 'dataloader/546361667.json', 'dataloader/546924098.json', 'dataloader/546943598.json', 'dataloader/548420990.json', 'dataloader/54884689.json', 'dataloader/549411950.json', 'dataloader/551331553.json', 'dataloader/556607139.json', 'dataloader/557143501.json', 'dataloader/55848090.json', 'dataloader/559370774.json', 'dataloader/564127049.json', 'dataloader/56463099.json', 'dataloader/56844815.json', 'dataloader/56844876.json', 'dataloader/570594317.json', 'dataloader/572187256.json', 'dataloader/576848806.json', 'dataloader/586437980.json', 'dataloader/588719541.json', 'dataloader/588786395.json', 'dataloader/59582387.json', 'dataloader/60796346.json', 'dataloader/62050270.json', 'dataloader/70721559.json', 'dataloader/70872439.json', 'dataloader/71067186.json', 'dataloader/71290777.json', 'dataloader/72370074.json', 'dataloader/75497667.json', 'dataloader/79875403.json', 'dataloader/80052744.json', 'dataloader/80216687.json', 'dataloader/83429421.json', 'dataloader/83533038.json', 'dataloader/84488712.json', 'dataloader/88187333.json', 'dataloader/95551586.json', 'dataloader/95685219.json']\n"
     ]
    }
   ],
   "source": [
    "# magari rifare il dataloader con due cartelle\n",
    "image_path = 'dataloader'\n",
    "\n",
    "# Combine image and mask paths\n",
    "#NON VA BENE COSI\n",
    "image_paths = []\n",
    "mask_paths = []\n",
    "for filename in os.listdir('dataloader'):\n",
    "    if filename.endswith('.png'):\n",
    "        image_path = 'dataloader'+ '/' + filename\n",
    "        mask_path = 'dataloader'+ '/' + filename.replace('.png', '.json')\n",
    "        image_paths.append(image_path)\n",
    "        mask_paths.append(mask_path)\n",
    "print(image_paths)\n",
    "print(mask_paths)\n",
    "# Data transformations\n",
    "\n",
    "transform = transforms.Compose([\n",
    "    #transforms.Resize((max_height, max_width)),  # Resize to maximum dimensions\n",
    "    #transforms.Pad(padding),  # Pad images to make them all the same size\n",
    "    transforms.ToTensor()\n",
    "])\n",
    "# Create dataset\n",
    "dataset = ParkingLotDataset(image_paths, mask_paths, transforms=transform)\n",
    "\n",
    "# Split image and mask paths into train and test sets\n",
    "train_images, test_images, train_masks, test_masks = train_test_split(dataset.image_paths, dataset.mask_paths, test_size=0.2, random_state=42)\n",
    "\n",
    "# Further split train set into train and validation sets\n",
    "train_images, val_images, train_masks, val_masks = train_test_split(train_images, train_masks, test_size=0.2, random_state=42)\n",
    "\n",
    "# Define datasets and data loaders for train, validation, and test sets\n",
    "train_dataset = ParkingLotDataset(train_images, train_masks, transforms=transform)\n",
    "val_dataset = ParkingLotDataset(val_images, val_masks, transforms=transform)\n",
    "test_dataset = ParkingLotDataset(test_images, test_masks, transforms=transform)\n",
    "\n",
    "# Create data loaders\n",
    "train_data_loader = DataLoader(train_dataset, batch_size=16, shuffle=True)\n",
    "val_data_loader = DataLoader(val_dataset, batch_size=4, shuffle=True)\n",
    "test_data_loader = DataLoader(test_dataset, batch_size=4, shuffle=True)"
   ]
  },
  {
   "cell_type": "code",
   "execution_count": 14,
   "metadata": {},
   "outputs": [
    {
     "ename": "FileNotFoundError",
     "evalue": "[Errno 2] No such file or directory: 'dataloader/203436248.json'",
     "output_type": "error",
     "traceback": [
      "\u001b[1;31m---------------------------------------------------------------------------\u001b[0m",
      "\u001b[1;31mFileNotFoundError\u001b[0m                         Traceback (most recent call last)",
      "Cell \u001b[1;32mIn[14], line 5\u001b[0m\n\u001b[0;32m      2\u001b[0m \u001b[38;5;28;01mimport\u001b[39;00m \u001b[38;5;21;01mmatplotlib\u001b[39;00m\u001b[38;5;21;01m.\u001b[39;00m\u001b[38;5;21;01mpyplot\u001b[39;00m \u001b[38;5;28;01mas\u001b[39;00m \u001b[38;5;21;01mplt\u001b[39;00m\n\u001b[0;32m      4\u001b[0m \u001b[38;5;66;03m# Display images and masks from the train data loader\u001b[39;00m\n\u001b[1;32m----> 5\u001b[0m \u001b[38;5;28;43;01mfor\u001b[39;49;00m\u001b[43m \u001b[49m\u001b[43mimages\u001b[49m\u001b[43m,\u001b[49m\u001b[43m \u001b[49m\u001b[43mmasks\u001b[49m\u001b[43m \u001b[49m\u001b[38;5;129;43;01min\u001b[39;49;00m\u001b[43m \u001b[49m\u001b[43mtrain_data_loader\u001b[49m\u001b[43m:\u001b[49m\n\u001b[0;32m      6\u001b[0m \u001b[43m    \u001b[49m\u001b[38;5;28;43;01mfor\u001b[39;49;00m\u001b[43m \u001b[49m\u001b[43mi\u001b[49m\u001b[43m \u001b[49m\u001b[38;5;129;43;01min\u001b[39;49;00m\u001b[43m \u001b[49m\u001b[38;5;28;43mrange\u001b[39;49m\u001b[43m(\u001b[49m\u001b[43mimages\u001b[49m\u001b[38;5;241;43m.\u001b[39;49m\u001b[43msize\u001b[49m\u001b[43m(\u001b[49m\u001b[38;5;241;43m0\u001b[39;49m\u001b[43m)\u001b[49m\u001b[43m)\u001b[49m\u001b[43m:\u001b[49m\n\u001b[0;32m      7\u001b[0m \u001b[43m        \u001b[49m\u001b[43mimage\u001b[49m\u001b[43m \u001b[49m\u001b[38;5;241;43m=\u001b[39;49m\u001b[43m \u001b[49m\u001b[43mimages\u001b[49m\u001b[43m[\u001b[49m\u001b[43mi\u001b[49m\u001b[43m]\u001b[49m\u001b[38;5;241;43m.\u001b[39;49m\u001b[43mpermute\u001b[49m\u001b[43m(\u001b[49m\u001b[38;5;241;43m1\u001b[39;49m\u001b[43m,\u001b[49m\u001b[43m \u001b[49m\u001b[38;5;241;43m2\u001b[39;49m\u001b[43m,\u001b[49m\u001b[43m \u001b[49m\u001b[38;5;241;43m0\u001b[39;49m\u001b[43m)\u001b[49m\u001b[38;5;241;43m.\u001b[39;49m\u001b[43mnumpy\u001b[49m\u001b[43m(\u001b[49m\u001b[43m)\u001b[49m\n",
      "File \u001b[1;32mc:\\Users\\Federico\\AppData\\Local\\Programs\\Python\\Python311\\Lib\\site-packages\\torch\\utils\\data\\dataloader.py:630\u001b[0m, in \u001b[0;36m_BaseDataLoaderIter.__next__\u001b[1;34m(self)\u001b[0m\n\u001b[0;32m    627\u001b[0m \u001b[38;5;28;01mif\u001b[39;00m \u001b[38;5;28mself\u001b[39m\u001b[38;5;241m.\u001b[39m_sampler_iter \u001b[38;5;129;01mis\u001b[39;00m \u001b[38;5;28;01mNone\u001b[39;00m:\n\u001b[0;32m    628\u001b[0m     \u001b[38;5;66;03m# TODO(https://github.com/pytorch/pytorch/issues/76750)\u001b[39;00m\n\u001b[0;32m    629\u001b[0m     \u001b[38;5;28mself\u001b[39m\u001b[38;5;241m.\u001b[39m_reset()  \u001b[38;5;66;03m# type: ignore[call-arg]\u001b[39;00m\n\u001b[1;32m--> 630\u001b[0m data \u001b[38;5;241m=\u001b[39m \u001b[38;5;28;43mself\u001b[39;49m\u001b[38;5;241;43m.\u001b[39;49m\u001b[43m_next_data\u001b[49m\u001b[43m(\u001b[49m\u001b[43m)\u001b[49m\n\u001b[0;32m    631\u001b[0m \u001b[38;5;28mself\u001b[39m\u001b[38;5;241m.\u001b[39m_num_yielded \u001b[38;5;241m+\u001b[39m\u001b[38;5;241m=\u001b[39m \u001b[38;5;241m1\u001b[39m\n\u001b[0;32m    632\u001b[0m \u001b[38;5;28;01mif\u001b[39;00m \u001b[38;5;28mself\u001b[39m\u001b[38;5;241m.\u001b[39m_dataset_kind \u001b[38;5;241m==\u001b[39m _DatasetKind\u001b[38;5;241m.\u001b[39mIterable \u001b[38;5;129;01mand\u001b[39;00m \\\n\u001b[0;32m    633\u001b[0m         \u001b[38;5;28mself\u001b[39m\u001b[38;5;241m.\u001b[39m_IterableDataset_len_called \u001b[38;5;129;01mis\u001b[39;00m \u001b[38;5;129;01mnot\u001b[39;00m \u001b[38;5;28;01mNone\u001b[39;00m \u001b[38;5;129;01mand\u001b[39;00m \\\n\u001b[0;32m    634\u001b[0m         \u001b[38;5;28mself\u001b[39m\u001b[38;5;241m.\u001b[39m_num_yielded \u001b[38;5;241m>\u001b[39m \u001b[38;5;28mself\u001b[39m\u001b[38;5;241m.\u001b[39m_IterableDataset_len_called:\n",
      "File \u001b[1;32mc:\\Users\\Federico\\AppData\\Local\\Programs\\Python\\Python311\\Lib\\site-packages\\torch\\utils\\data\\dataloader.py:674\u001b[0m, in \u001b[0;36m_SingleProcessDataLoaderIter._next_data\u001b[1;34m(self)\u001b[0m\n\u001b[0;32m    672\u001b[0m \u001b[38;5;28;01mdef\u001b[39;00m \u001b[38;5;21m_next_data\u001b[39m(\u001b[38;5;28mself\u001b[39m):\n\u001b[0;32m    673\u001b[0m     index \u001b[38;5;241m=\u001b[39m \u001b[38;5;28mself\u001b[39m\u001b[38;5;241m.\u001b[39m_next_index()  \u001b[38;5;66;03m# may raise StopIteration\u001b[39;00m\n\u001b[1;32m--> 674\u001b[0m     data \u001b[38;5;241m=\u001b[39m \u001b[38;5;28;43mself\u001b[39;49m\u001b[38;5;241;43m.\u001b[39;49m\u001b[43m_dataset_fetcher\u001b[49m\u001b[38;5;241;43m.\u001b[39;49m\u001b[43mfetch\u001b[49m\u001b[43m(\u001b[49m\u001b[43mindex\u001b[49m\u001b[43m)\u001b[49m  \u001b[38;5;66;03m# may raise StopIteration\u001b[39;00m\n\u001b[0;32m    675\u001b[0m     \u001b[38;5;28;01mif\u001b[39;00m \u001b[38;5;28mself\u001b[39m\u001b[38;5;241m.\u001b[39m_pin_memory:\n\u001b[0;32m    676\u001b[0m         data \u001b[38;5;241m=\u001b[39m _utils\u001b[38;5;241m.\u001b[39mpin_memory\u001b[38;5;241m.\u001b[39mpin_memory(data, \u001b[38;5;28mself\u001b[39m\u001b[38;5;241m.\u001b[39m_pin_memory_device)\n",
      "File \u001b[1;32mc:\\Users\\Federico\\AppData\\Local\\Programs\\Python\\Python311\\Lib\\site-packages\\torch\\utils\\data\\_utils\\fetch.py:51\u001b[0m, in \u001b[0;36m_MapDatasetFetcher.fetch\u001b[1;34m(self, possibly_batched_index)\u001b[0m\n\u001b[0;32m     49\u001b[0m         data \u001b[38;5;241m=\u001b[39m \u001b[38;5;28mself\u001b[39m\u001b[38;5;241m.\u001b[39mdataset\u001b[38;5;241m.\u001b[39m__getitems__(possibly_batched_index)\n\u001b[0;32m     50\u001b[0m     \u001b[38;5;28;01melse\u001b[39;00m:\n\u001b[1;32m---> 51\u001b[0m         data \u001b[38;5;241m=\u001b[39m \u001b[43m[\u001b[49m\u001b[38;5;28;43mself\u001b[39;49m\u001b[38;5;241;43m.\u001b[39;49m\u001b[43mdataset\u001b[49m\u001b[43m[\u001b[49m\u001b[43midx\u001b[49m\u001b[43m]\u001b[49m\u001b[43m \u001b[49m\u001b[38;5;28;43;01mfor\u001b[39;49;00m\u001b[43m \u001b[49m\u001b[43midx\u001b[49m\u001b[43m \u001b[49m\u001b[38;5;129;43;01min\u001b[39;49;00m\u001b[43m \u001b[49m\u001b[43mpossibly_batched_index\u001b[49m\u001b[43m]\u001b[49m\n\u001b[0;32m     52\u001b[0m \u001b[38;5;28;01melse\u001b[39;00m:\n\u001b[0;32m     53\u001b[0m     data \u001b[38;5;241m=\u001b[39m \u001b[38;5;28mself\u001b[39m\u001b[38;5;241m.\u001b[39mdataset[possibly_batched_index]\n",
      "File \u001b[1;32mc:\\Users\\Federico\\AppData\\Local\\Programs\\Python\\Python311\\Lib\\site-packages\\torch\\utils\\data\\_utils\\fetch.py:51\u001b[0m, in \u001b[0;36m<listcomp>\u001b[1;34m(.0)\u001b[0m\n\u001b[0;32m     49\u001b[0m         data \u001b[38;5;241m=\u001b[39m \u001b[38;5;28mself\u001b[39m\u001b[38;5;241m.\u001b[39mdataset\u001b[38;5;241m.\u001b[39m__getitems__(possibly_batched_index)\n\u001b[0;32m     50\u001b[0m     \u001b[38;5;28;01melse\u001b[39;00m:\n\u001b[1;32m---> 51\u001b[0m         data \u001b[38;5;241m=\u001b[39m [\u001b[38;5;28;43mself\u001b[39;49m\u001b[38;5;241;43m.\u001b[39;49m\u001b[43mdataset\u001b[49m\u001b[43m[\u001b[49m\u001b[43midx\u001b[49m\u001b[43m]\u001b[49m \u001b[38;5;28;01mfor\u001b[39;00m idx \u001b[38;5;129;01min\u001b[39;00m possibly_batched_index]\n\u001b[0;32m     52\u001b[0m \u001b[38;5;28;01melse\u001b[39;00m:\n\u001b[0;32m     53\u001b[0m     data \u001b[38;5;241m=\u001b[39m \u001b[38;5;28mself\u001b[39m\u001b[38;5;241m.\u001b[39mdataset[possibly_batched_index]\n",
      "Cell \u001b[1;32mIn[3], line 22\u001b[0m, in \u001b[0;36mParkingLotDataset.__getitem__\u001b[1;34m(self, idx)\u001b[0m\n\u001b[0;32m     16\u001b[0m image \u001b[38;5;241m=\u001b[39m cv2\u001b[38;5;241m.\u001b[39mimread(image_path)\n\u001b[0;32m     17\u001b[0m \u001b[38;5;66;03m#image = cv2.imread(image_path, cv2.IMREAD_GRAYSCALE)\u001b[39;00m\n\u001b[0;32m     18\u001b[0m \n\u001b[0;32m     19\u001b[0m \u001b[38;5;66;03m#image = cv2.cvtColor(image, cv2.COLOR_BGR2RGB)\u001b[39;00m\n\u001b[0;32m     20\u001b[0m \n\u001b[0;32m     21\u001b[0m \u001b[38;5;66;03m# Load masks\u001b[39;00m\n\u001b[1;32m---> 22\u001b[0m \u001b[38;5;28;01mwith\u001b[39;00m \u001b[38;5;28;43mopen\u001b[39;49m\u001b[43m(\u001b[49m\u001b[43mmask_path\u001b[49m\u001b[43m,\u001b[49m\u001b[43m \u001b[49m\u001b[38;5;124;43m'\u001b[39;49m\u001b[38;5;124;43mr\u001b[39;49m\u001b[38;5;124;43m'\u001b[39;49m\u001b[43m)\u001b[49m \u001b[38;5;28;01mas\u001b[39;00m f:\n\u001b[0;32m     23\u001b[0m     masks_data \u001b[38;5;241m=\u001b[39m json\u001b[38;5;241m.\u001b[39mload(f)\n\u001b[0;32m     25\u001b[0m masks \u001b[38;5;241m=\u001b[39m []\n",
      "File \u001b[1;32m~\\AppData\\Roaming\\Python\\Python311\\site-packages\\IPython\\core\\interactiveshell.py:310\u001b[0m, in \u001b[0;36m_modified_open\u001b[1;34m(file, *args, **kwargs)\u001b[0m\n\u001b[0;32m    303\u001b[0m \u001b[38;5;28;01mif\u001b[39;00m file \u001b[38;5;129;01min\u001b[39;00m {\u001b[38;5;241m0\u001b[39m, \u001b[38;5;241m1\u001b[39m, \u001b[38;5;241m2\u001b[39m}:\n\u001b[0;32m    304\u001b[0m     \u001b[38;5;28;01mraise\u001b[39;00m \u001b[38;5;167;01mValueError\u001b[39;00m(\n\u001b[0;32m    305\u001b[0m         \u001b[38;5;124mf\u001b[39m\u001b[38;5;124m\"\u001b[39m\u001b[38;5;124mIPython won\u001b[39m\u001b[38;5;124m'\u001b[39m\u001b[38;5;124mt let you open fd=\u001b[39m\u001b[38;5;132;01m{\u001b[39;00mfile\u001b[38;5;132;01m}\u001b[39;00m\u001b[38;5;124m by default \u001b[39m\u001b[38;5;124m\"\u001b[39m\n\u001b[0;32m    306\u001b[0m         \u001b[38;5;124m\"\u001b[39m\u001b[38;5;124mas it is likely to crash IPython. If you know what you are doing, \u001b[39m\u001b[38;5;124m\"\u001b[39m\n\u001b[0;32m    307\u001b[0m         \u001b[38;5;124m\"\u001b[39m\u001b[38;5;124myou can use builtins\u001b[39m\u001b[38;5;124m'\u001b[39m\u001b[38;5;124m open.\u001b[39m\u001b[38;5;124m\"\u001b[39m\n\u001b[0;32m    308\u001b[0m     )\n\u001b[1;32m--> 310\u001b[0m \u001b[38;5;28;01mreturn\u001b[39;00m \u001b[43mio_open\u001b[49m\u001b[43m(\u001b[49m\u001b[43mfile\u001b[49m\u001b[43m,\u001b[49m\u001b[43m \u001b[49m\u001b[38;5;241;43m*\u001b[39;49m\u001b[43margs\u001b[49m\u001b[43m,\u001b[49m\u001b[43m \u001b[49m\u001b[38;5;241;43m*\u001b[39;49m\u001b[38;5;241;43m*\u001b[39;49m\u001b[43mkwargs\u001b[49m\u001b[43m)\u001b[49m\n",
      "\u001b[1;31mFileNotFoundError\u001b[0m: [Errno 2] No such file or directory: 'dataloader/203436248.json'"
     ]
    }
   ],
   "source": [
    "#print delle immagini\n",
    "import matplotlib.pyplot as plt\n",
    "\n",
    "# Display images and masks from the train data loader\n",
    "for images, masks in train_data_loader:\n",
    "    for i in range(images.size(0)):\n",
    "        image = images[i].permute(1, 2, 0).numpy()\n",
    "        mask = masks[i].permute(1, 2, 0).numpy()\n",
    "\n",
    "        fig, (ax1, ax2) = plt.subplots(1, 2, figsize=(12, 6))\n",
    "        ax1.imshow(image)\n",
    "        ax1.set_title('Image')\n",
    "        ax2.imshow(mask.squeeze(), cmap='gray')\n",
    "        ax2.set_title('Mask')\n",
    "        plt.show()\n",
    "        break  # Display only one batch\n",
    "    break  # Display only one batch"
   ]
  },
  {
   "cell_type": "markdown",
   "metadata": {},
   "source": [
    "Model"
   ]
  },
  {
   "cell_type": "code",
   "execution_count": 21,
   "metadata": {},
   "outputs": [
    {
     "ename": "FileNotFoundError",
     "evalue": "[Errno 2] No such file or directory: 'dataloader/397174539.json'",
     "output_type": "error",
     "traceback": [
      "\u001b[1;31m---------------------------------------------------------------------------\u001b[0m",
      "\u001b[1;31mFileNotFoundError\u001b[0m                         Traceback (most recent call last)",
      "Cell \u001b[1;32mIn[21], line 36\u001b[0m\n\u001b[0;32m     34\u001b[0m \u001b[38;5;28;01mfor\u001b[39;00m epoch \u001b[38;5;129;01min\u001b[39;00m \u001b[38;5;28mrange\u001b[39m(num_epochs):\n\u001b[0;32m     35\u001b[0m     epoch_loss \u001b[38;5;241m=\u001b[39m \u001b[38;5;241m0.0\u001b[39m\n\u001b[1;32m---> 36\u001b[0m \u001b[43m    \u001b[49m\u001b[38;5;28;43;01mfor\u001b[39;49;00m\u001b[43m \u001b[49m\u001b[43mimages\u001b[49m\u001b[43m,\u001b[49m\u001b[43m \u001b[49m\u001b[43mmasks\u001b[49m\u001b[43m \u001b[49m\u001b[38;5;129;43;01min\u001b[39;49;00m\u001b[43m \u001b[49m\u001b[43mtrain_data_loader\u001b[49m\u001b[43m:\u001b[49m\n\u001b[0;32m     37\u001b[0m \u001b[43m        \u001b[49m\u001b[43mimages\u001b[49m\u001b[43m \u001b[49m\u001b[38;5;241;43m=\u001b[39;49m\u001b[43m \u001b[49m\u001b[38;5;28;43mlist\u001b[39;49m\u001b[43m(\u001b[49m\u001b[43mimage\u001b[49m\u001b[38;5;241;43m.\u001b[39;49m\u001b[43mto\u001b[49m\u001b[43m(\u001b[49m\u001b[43mdevice\u001b[49m\u001b[43m)\u001b[49m\u001b[43m \u001b[49m\u001b[38;5;28;43;01mfor\u001b[39;49;00m\u001b[43m \u001b[49m\u001b[43mimage\u001b[49m\u001b[43m \u001b[49m\u001b[38;5;129;43;01min\u001b[39;49;00m\u001b[43m \u001b[49m\u001b[43mimages\u001b[49m\u001b[43m)\u001b[49m\n\u001b[0;32m     38\u001b[0m \u001b[43m        \u001b[49m\u001b[43mmasks\u001b[49m\u001b[43m \u001b[49m\u001b[38;5;241;43m=\u001b[39;49m\u001b[43m \u001b[49m\u001b[43m[\u001b[49m\u001b[43m{\u001b[49m\u001b[43mk\u001b[49m\u001b[43m:\u001b[49m\u001b[43m \u001b[49m\u001b[43mv\u001b[49m\u001b[38;5;241;43m.\u001b[39;49m\u001b[43mto\u001b[49m\u001b[43m(\u001b[49m\u001b[43mdevice\u001b[49m\u001b[43m)\u001b[49m\u001b[43m \u001b[49m\u001b[38;5;28;43;01mfor\u001b[39;49;00m\u001b[43m \u001b[49m\u001b[43mk\u001b[49m\u001b[43m,\u001b[49m\u001b[43m \u001b[49m\u001b[43mv\u001b[49m\u001b[43m \u001b[49m\u001b[38;5;129;43;01min\u001b[39;49;00m\u001b[43m \u001b[49m\u001b[43mt\u001b[49m\u001b[38;5;241;43m.\u001b[39;49m\u001b[43mitems\u001b[49m\u001b[43m(\u001b[49m\u001b[43m)\u001b[49m\u001b[43m}\u001b[49m\u001b[43m \u001b[49m\u001b[38;5;28;43;01mfor\u001b[39;49;00m\u001b[43m \u001b[49m\u001b[43mt\u001b[49m\u001b[43m \u001b[49m\u001b[38;5;129;43;01min\u001b[39;49;00m\u001b[43m \u001b[49m\u001b[43mmasks\u001b[49m\u001b[43m]\u001b[49m\n",
      "File \u001b[1;32mc:\\Users\\Federico\\AppData\\Local\\Programs\\Python\\Python311\\Lib\\site-packages\\torch\\utils\\data\\dataloader.py:630\u001b[0m, in \u001b[0;36m_BaseDataLoaderIter.__next__\u001b[1;34m(self)\u001b[0m\n\u001b[0;32m    627\u001b[0m \u001b[38;5;28;01mif\u001b[39;00m \u001b[38;5;28mself\u001b[39m\u001b[38;5;241m.\u001b[39m_sampler_iter \u001b[38;5;129;01mis\u001b[39;00m \u001b[38;5;28;01mNone\u001b[39;00m:\n\u001b[0;32m    628\u001b[0m     \u001b[38;5;66;03m# TODO(https://github.com/pytorch/pytorch/issues/76750)\u001b[39;00m\n\u001b[0;32m    629\u001b[0m     \u001b[38;5;28mself\u001b[39m\u001b[38;5;241m.\u001b[39m_reset()  \u001b[38;5;66;03m# type: ignore[call-arg]\u001b[39;00m\n\u001b[1;32m--> 630\u001b[0m data \u001b[38;5;241m=\u001b[39m \u001b[38;5;28;43mself\u001b[39;49m\u001b[38;5;241;43m.\u001b[39;49m\u001b[43m_next_data\u001b[49m\u001b[43m(\u001b[49m\u001b[43m)\u001b[49m\n\u001b[0;32m    631\u001b[0m \u001b[38;5;28mself\u001b[39m\u001b[38;5;241m.\u001b[39m_num_yielded \u001b[38;5;241m+\u001b[39m\u001b[38;5;241m=\u001b[39m \u001b[38;5;241m1\u001b[39m\n\u001b[0;32m    632\u001b[0m \u001b[38;5;28;01mif\u001b[39;00m \u001b[38;5;28mself\u001b[39m\u001b[38;5;241m.\u001b[39m_dataset_kind \u001b[38;5;241m==\u001b[39m _DatasetKind\u001b[38;5;241m.\u001b[39mIterable \u001b[38;5;129;01mand\u001b[39;00m \\\n\u001b[0;32m    633\u001b[0m         \u001b[38;5;28mself\u001b[39m\u001b[38;5;241m.\u001b[39m_IterableDataset_len_called \u001b[38;5;129;01mis\u001b[39;00m \u001b[38;5;129;01mnot\u001b[39;00m \u001b[38;5;28;01mNone\u001b[39;00m \u001b[38;5;129;01mand\u001b[39;00m \\\n\u001b[0;32m    634\u001b[0m         \u001b[38;5;28mself\u001b[39m\u001b[38;5;241m.\u001b[39m_num_yielded \u001b[38;5;241m>\u001b[39m \u001b[38;5;28mself\u001b[39m\u001b[38;5;241m.\u001b[39m_IterableDataset_len_called:\n",
      "File \u001b[1;32mc:\\Users\\Federico\\AppData\\Local\\Programs\\Python\\Python311\\Lib\\site-packages\\torch\\utils\\data\\dataloader.py:674\u001b[0m, in \u001b[0;36m_SingleProcessDataLoaderIter._next_data\u001b[1;34m(self)\u001b[0m\n\u001b[0;32m    672\u001b[0m \u001b[38;5;28;01mdef\u001b[39;00m \u001b[38;5;21m_next_data\u001b[39m(\u001b[38;5;28mself\u001b[39m):\n\u001b[0;32m    673\u001b[0m     index \u001b[38;5;241m=\u001b[39m \u001b[38;5;28mself\u001b[39m\u001b[38;5;241m.\u001b[39m_next_index()  \u001b[38;5;66;03m# may raise StopIteration\u001b[39;00m\n\u001b[1;32m--> 674\u001b[0m     data \u001b[38;5;241m=\u001b[39m \u001b[38;5;28;43mself\u001b[39;49m\u001b[38;5;241;43m.\u001b[39;49m\u001b[43m_dataset_fetcher\u001b[49m\u001b[38;5;241;43m.\u001b[39;49m\u001b[43mfetch\u001b[49m\u001b[43m(\u001b[49m\u001b[43mindex\u001b[49m\u001b[43m)\u001b[49m  \u001b[38;5;66;03m# may raise StopIteration\u001b[39;00m\n\u001b[0;32m    675\u001b[0m     \u001b[38;5;28;01mif\u001b[39;00m \u001b[38;5;28mself\u001b[39m\u001b[38;5;241m.\u001b[39m_pin_memory:\n\u001b[0;32m    676\u001b[0m         data \u001b[38;5;241m=\u001b[39m _utils\u001b[38;5;241m.\u001b[39mpin_memory\u001b[38;5;241m.\u001b[39mpin_memory(data, \u001b[38;5;28mself\u001b[39m\u001b[38;5;241m.\u001b[39m_pin_memory_device)\n",
      "File \u001b[1;32mc:\\Users\\Federico\\AppData\\Local\\Programs\\Python\\Python311\\Lib\\site-packages\\torch\\utils\\data\\_utils\\fetch.py:51\u001b[0m, in \u001b[0;36m_MapDatasetFetcher.fetch\u001b[1;34m(self, possibly_batched_index)\u001b[0m\n\u001b[0;32m     49\u001b[0m         data \u001b[38;5;241m=\u001b[39m \u001b[38;5;28mself\u001b[39m\u001b[38;5;241m.\u001b[39mdataset\u001b[38;5;241m.\u001b[39m__getitems__(possibly_batched_index)\n\u001b[0;32m     50\u001b[0m     \u001b[38;5;28;01melse\u001b[39;00m:\n\u001b[1;32m---> 51\u001b[0m         data \u001b[38;5;241m=\u001b[39m \u001b[43m[\u001b[49m\u001b[38;5;28;43mself\u001b[39;49m\u001b[38;5;241;43m.\u001b[39;49m\u001b[43mdataset\u001b[49m\u001b[43m[\u001b[49m\u001b[43midx\u001b[49m\u001b[43m]\u001b[49m\u001b[43m \u001b[49m\u001b[38;5;28;43;01mfor\u001b[39;49;00m\u001b[43m \u001b[49m\u001b[43midx\u001b[49m\u001b[43m \u001b[49m\u001b[38;5;129;43;01min\u001b[39;49;00m\u001b[43m \u001b[49m\u001b[43mpossibly_batched_index\u001b[49m\u001b[43m]\u001b[49m\n\u001b[0;32m     52\u001b[0m \u001b[38;5;28;01melse\u001b[39;00m:\n\u001b[0;32m     53\u001b[0m     data \u001b[38;5;241m=\u001b[39m \u001b[38;5;28mself\u001b[39m\u001b[38;5;241m.\u001b[39mdataset[possibly_batched_index]\n",
      "File \u001b[1;32mc:\\Users\\Federico\\AppData\\Local\\Programs\\Python\\Python311\\Lib\\site-packages\\torch\\utils\\data\\_utils\\fetch.py:51\u001b[0m, in \u001b[0;36m<listcomp>\u001b[1;34m(.0)\u001b[0m\n\u001b[0;32m     49\u001b[0m         data \u001b[38;5;241m=\u001b[39m \u001b[38;5;28mself\u001b[39m\u001b[38;5;241m.\u001b[39mdataset\u001b[38;5;241m.\u001b[39m__getitems__(possibly_batched_index)\n\u001b[0;32m     50\u001b[0m     \u001b[38;5;28;01melse\u001b[39;00m:\n\u001b[1;32m---> 51\u001b[0m         data \u001b[38;5;241m=\u001b[39m [\u001b[38;5;28;43mself\u001b[39;49m\u001b[38;5;241;43m.\u001b[39;49m\u001b[43mdataset\u001b[49m\u001b[43m[\u001b[49m\u001b[43midx\u001b[49m\u001b[43m]\u001b[49m \u001b[38;5;28;01mfor\u001b[39;00m idx \u001b[38;5;129;01min\u001b[39;00m possibly_batched_index]\n\u001b[0;32m     52\u001b[0m \u001b[38;5;28;01melse\u001b[39;00m:\n\u001b[0;32m     53\u001b[0m     data \u001b[38;5;241m=\u001b[39m \u001b[38;5;28mself\u001b[39m\u001b[38;5;241m.\u001b[39mdataset[possibly_batched_index]\n",
      "Cell \u001b[1;32mIn[3], line 22\u001b[0m, in \u001b[0;36mParkingLotDataset.__getitem__\u001b[1;34m(self, idx)\u001b[0m\n\u001b[0;32m     16\u001b[0m image \u001b[38;5;241m=\u001b[39m cv2\u001b[38;5;241m.\u001b[39mimread(image_path)\n\u001b[0;32m     17\u001b[0m \u001b[38;5;66;03m#image = cv2.imread(image_path, cv2.IMREAD_GRAYSCALE)\u001b[39;00m\n\u001b[0;32m     18\u001b[0m \n\u001b[0;32m     19\u001b[0m \u001b[38;5;66;03m#image = cv2.cvtColor(image, cv2.COLOR_BGR2RGB)\u001b[39;00m\n\u001b[0;32m     20\u001b[0m \n\u001b[0;32m     21\u001b[0m \u001b[38;5;66;03m# Load masks\u001b[39;00m\n\u001b[1;32m---> 22\u001b[0m \u001b[38;5;28;01mwith\u001b[39;00m \u001b[38;5;28;43mopen\u001b[39;49m\u001b[43m(\u001b[49m\u001b[43mmask_path\u001b[49m\u001b[43m,\u001b[49m\u001b[43m \u001b[49m\u001b[38;5;124;43m'\u001b[39;49m\u001b[38;5;124;43mr\u001b[39;49m\u001b[38;5;124;43m'\u001b[39;49m\u001b[43m)\u001b[49m \u001b[38;5;28;01mas\u001b[39;00m f:\n\u001b[0;32m     23\u001b[0m     masks_data \u001b[38;5;241m=\u001b[39m json\u001b[38;5;241m.\u001b[39mload(f)\n\u001b[0;32m     25\u001b[0m masks \u001b[38;5;241m=\u001b[39m []\n",
      "File \u001b[1;32m~\\AppData\\Roaming\\Python\\Python311\\site-packages\\IPython\\core\\interactiveshell.py:310\u001b[0m, in \u001b[0;36m_modified_open\u001b[1;34m(file, *args, **kwargs)\u001b[0m\n\u001b[0;32m    303\u001b[0m \u001b[38;5;28;01mif\u001b[39;00m file \u001b[38;5;129;01min\u001b[39;00m {\u001b[38;5;241m0\u001b[39m, \u001b[38;5;241m1\u001b[39m, \u001b[38;5;241m2\u001b[39m}:\n\u001b[0;32m    304\u001b[0m     \u001b[38;5;28;01mraise\u001b[39;00m \u001b[38;5;167;01mValueError\u001b[39;00m(\n\u001b[0;32m    305\u001b[0m         \u001b[38;5;124mf\u001b[39m\u001b[38;5;124m\"\u001b[39m\u001b[38;5;124mIPython won\u001b[39m\u001b[38;5;124m'\u001b[39m\u001b[38;5;124mt let you open fd=\u001b[39m\u001b[38;5;132;01m{\u001b[39;00mfile\u001b[38;5;132;01m}\u001b[39;00m\u001b[38;5;124m by default \u001b[39m\u001b[38;5;124m\"\u001b[39m\n\u001b[0;32m    306\u001b[0m         \u001b[38;5;124m\"\u001b[39m\u001b[38;5;124mas it is likely to crash IPython. If you know what you are doing, \u001b[39m\u001b[38;5;124m\"\u001b[39m\n\u001b[0;32m    307\u001b[0m         \u001b[38;5;124m\"\u001b[39m\u001b[38;5;124myou can use builtins\u001b[39m\u001b[38;5;124m'\u001b[39m\u001b[38;5;124m open.\u001b[39m\u001b[38;5;124m\"\u001b[39m\n\u001b[0;32m    308\u001b[0m     )\n\u001b[1;32m--> 310\u001b[0m \u001b[38;5;28;01mreturn\u001b[39;00m \u001b[43mio_open\u001b[49m\u001b[43m(\u001b[49m\u001b[43mfile\u001b[49m\u001b[43m,\u001b[49m\u001b[43m \u001b[49m\u001b[38;5;241;43m*\u001b[39;49m\u001b[43margs\u001b[49m\u001b[43m,\u001b[49m\u001b[43m \u001b[49m\u001b[38;5;241;43m*\u001b[39;49m\u001b[38;5;241;43m*\u001b[39;49m\u001b[43mkwargs\u001b[49m\u001b[43m)\u001b[49m\n",
      "\u001b[1;31mFileNotFoundError\u001b[0m: [Errno 2] No such file or directory: 'dataloader/397174539.json'"
     ]
    }
   ],
   "source": [
    "import torch\n",
    "import torch.nn as nn\n",
    "import torchvision\n",
    "from torchvision.models.detection import MaskRCNN_ResNet50_FPN_Weights\n",
    "from torchvision.models.detection.faster_rcnn import FastRCNNPredictor\n",
    "\n",
    "# Load the pre-trained model weights\n",
    "model_weights = MaskRCNN_ResNet50_FPN_Weights.DEFAULT\n",
    "model = torchvision.models.detection.maskrcnn_resnet50_fpn(weights=model_weights)\n",
    "\n",
    "# Get the number of input features for the classifier\n",
    "in_features = model.roi_heads.box_predictor.cls_score.in_features\n",
    "\n",
    "# Replace the pre-final layer with a new one for binary classification\n",
    "model.roi_heads.box_predictor = FastRCNNPredictor(in_features, num_classes=2)\n",
    "\n",
    "# Set the model in training mode\n",
    "model.train()\n",
    "\n",
    "# Define the loss function (e.g., Dice Loss)\n",
    "def dice_loss(inputs, targets, smooth=1e-5):\n",
    "    inputs = inputs.view(-1)\n",
    "    targets = targets.view(-1)\n",
    "    intersection = (inputs * targets).sum()\n",
    "    union = inputs.sum() + targets.sum()\n",
    "    dice = (2 * intersection + smooth) / (union + smooth)\n",
    "    return 1 - dice\n",
    "\n",
    "# Define the optimizer\n",
    "optimizer = torch.optim.Adam(model.parameters(), lr=0.001)\n",
    "\n",
    "# Training loop\n",
    "num_epochs = 10\n",
    "for epoch in range(num_epochs):\n",
    "    epoch_loss = 0.0\n",
    "    for images, masks in train_data_loader:\n",
    "        images = list(image.to(device) for image in images)\n",
    "        masks = [{k: v.to(device) for k, v in t.items()} for t in masks]\n",
    "\n",
    "        optimizer.zero_grad()\n",
    "\n",
    "        outputs = model(images, masks)\n",
    "        loss = sum(loss for loss in outputs.values())\n",
    "\n",
    "        loss.backward()\n",
    "        optimizer.step()\n",
    "\n",
    "        epoch_loss += loss.item()\n",
    "\n",
    "    print(f'Epoch {epoch+1}/{num_epochs}, Loss: {epoch_loss/len(train_loader)}')"
   ]
  },
  {
   "cell_type": "markdown",
   "metadata": {},
   "source": [
    "Train"
   ]
  },
  {
   "cell_type": "code",
   "execution_count": 17,
   "metadata": {},
   "outputs": [
    {
     "ename": "NameError",
     "evalue": "name 'model' is not defined",
     "output_type": "error",
     "traceback": [
      "\u001b[1;31m---------------------------------------------------------------------------\u001b[0m",
      "\u001b[1;31mNameError\u001b[0m                                 Traceback (most recent call last)",
      "Cell \u001b[1;32mIn[17], line 6\u001b[0m\n\u001b[0;32m      2\u001b[0m num_epochs \u001b[38;5;241m=\u001b[39m \u001b[38;5;241m10\u001b[39m\n\u001b[0;32m      4\u001b[0m \u001b[38;5;28;01mfor\u001b[39;00m epoch \u001b[38;5;129;01min\u001b[39;00m \u001b[38;5;28mrange\u001b[39m(num_epochs):\n\u001b[0;32m      5\u001b[0m     \u001b[38;5;66;03m# Training\u001b[39;00m\n\u001b[1;32m----> 6\u001b[0m     \u001b[43mmodel\u001b[49m\u001b[38;5;241m.\u001b[39mtrain()\n\u001b[0;32m      7\u001b[0m     \u001b[38;5;28;01mfor\u001b[39;00m images, targets \u001b[38;5;129;01min\u001b[39;00m train_data_loader:\n\u001b[0;32m      8\u001b[0m         images \u001b[38;5;241m=\u001b[39m \u001b[38;5;28mlist\u001b[39m(image\u001b[38;5;241m.\u001b[39mto(device) \u001b[38;5;28;01mfor\u001b[39;00m image \u001b[38;5;129;01min\u001b[39;00m images)\n",
      "\u001b[1;31mNameError\u001b[0m: name 'model' is not defined"
     ]
    }
   ],
   "source": [
    "# Define the number of epochs\n",
    "num_epochs = 10\n",
    "\n",
    "for epoch in range(num_epochs):\n",
    "    # Training\n",
    "    model.train()\n",
    "    for images, targets in train_data_loader:\n",
    "        images = list(image.to(device) for image in images)\n",
    "        targets = [{k: v.to(device) for k, v in t.items()} for t in targets]\n",
    "\n",
    "        loss_dict = model(images, targets)\n",
    "        losses = sum(loss for loss in loss_dict.values())\n",
    "\n",
    "        optimizer.zero_grad()\n",
    "        losses.backward()\n",
    "        optimizer.step()\n",
    "\n",
    "    # Validation\n",
    "    model.eval()\n",
    "    with torch.no_grad():\n",
    "        for images, targets in val_data_loader:\n",
    "            images = list(image.to(device) for image in images)\n",
    "            targets = [{k: v.to(device) for k, v in t.items()} for t in targets]\n",
    "\n",
    "            loss_dict = model(images, targets)\n",
    "            losses = sum(loss for loss in loss_dict.values())\n",
    "\n",
    "            # You can add here code to compute metrics and print them\n"
   ]
  }
 ],
 "metadata": {
  "kernelspec": {
   "display_name": "Python 3",
   "language": "python",
   "name": "python3"
  },
  "language_info": {
   "codemirror_mode": {
    "name": "ipython",
    "version": 3
   },
   "file_extension": ".py",
   "mimetype": "text/x-python",
   "name": "python",
   "nbconvert_exporter": "python",
   "pygments_lexer": "ipython3",
   "version": "3.11.7"
  }
 },
 "nbformat": 4,
 "nbformat_minor": 2
}
